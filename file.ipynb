{
 "cells": [
  {
   "cell_type": "markdown",
   "metadata": {},
   "source": [
    "# File Opening"
   ]
  },
  {
   "cell_type": "code",
   "execution_count": 12,
   "metadata": {},
   "outputs": [
    {
     "name": "stdout",
     "output_type": "stream",
     "text": [
      "True\n",
      "False\n"
     ]
    }
   ],
   "source": [
    "file = open('file1.txt', mode='w')\n",
    "file.write(\"Data 3\\n\")\n",
    "file.writelines([\n",
    "    \"Line 1\\n\",\n",
    "    'Line 2\\n',\n",
    "    \"line 3\\n\"\n",
    "    ])\n",
    "print(file.writable())\n",
    "print(file.closed)\n",
    "file.close()"
   ]
  },
  {
   "cell_type": "code",
   "execution_count": 5,
   "metadata": {},
   "outputs": [],
   "source": [
    "file = open('Folder\\\\file1.txt', mode='w')\n",
    "file.write(\"Data 2\")\n",
    "file.close()"
   ]
  },
  {
   "cell_type": "code",
   "execution_count": 13,
   "metadata": {},
   "outputs": [
    {
     "name": "stdout",
     "output_type": "stream",
     "text": [
      "True\n",
      "False\n"
     ]
    }
   ],
   "source": [
    "file = open('file1.txt', mode='a')\n",
    "file.write(\"Data 33\\n\")\n",
    "file.writelines([\n",
    "    \"Line 11\\n\",\n",
    "    'Line 22\\n',\n",
    "    \"line 33\\n\"\n",
    "    ])\n",
    "print(file.writable())\n",
    "print(file.closed)\n",
    "file.close()"
   ]
  },
  {
   "cell_type": "code",
   "execution_count": 26,
   "metadata": {},
   "outputs": [
    {
     "name": "stdout",
     "output_type": "stream",
     "text": [
      "True\n",
      "Data\n",
      "[' 3\\n', 'Line 1\\n']\n"
     ]
    }
   ],
   "source": [
    "file = open('file1.txt', mode='r')\n",
    "print(file.readable())\n",
    "print(file.read(4))\n",
    "print(file.readlines(6))\n",
    "file.close()"
   ]
  },
  {
   "cell_type": "code",
   "execution_count": 25,
   "metadata": {},
   "outputs": [
    {
     "name": "stdout",
     "output_type": "stream",
     "text": [
      "True\n",
      "False\n"
     ]
    }
   ],
   "source": [
    "file = open('file2.txt', mode='x')\n",
    "file.write(\"Data 33\\n\")\n",
    "file.writelines([\n",
    "    \"Line 11\\n\",\n",
    "    'Line 22\\n',\n",
    "    \"line 33\\n\"\n",
    "    ])\n",
    "print(file.writable())\n",
    "print(file.closed)\n",
    "file.close()"
   ]
  },
  {
   "cell_type": "code",
   "execution_count": 28,
   "metadata": {},
   "outputs": [
    {
     "name": "stdout",
     "output_type": "stream",
     "text": [
      "True\n",
      "Data 3\n",
      "Line 1\n",
      "Line 2\n",
      "line 3\n",
      "Data 33\n",
      "Line 11\n",
      "Line 22\n",
      "line 33\n",
      "\n"
     ]
    }
   ],
   "source": [
    "file = open('file1.txt', mode='rt')\n",
    "print(file.readable())\n",
    "print(file.read())\n",
    "file.close()"
   ]
  },
  {
   "cell_type": "code",
   "execution_count": 30,
   "metadata": {},
   "outputs": [
    {
     "name": "stdout",
     "output_type": "stream",
     "text": [
      "True\n",
      "b'Data 3\\r\\nLine 1\\r\\nLine 2\\r\\nline 3\\r\\nData 33\\r\\nLine 11\\r\\nLine 22\\r\\nline 33\\r\\n'\n"
     ]
    }
   ],
   "source": [
    "file = open('file1.txt', mode='rb')\n",
    "print(file.readable())\n",
    "print(file.read())\n",
    "file.close()"
   ]
  },
  {
   "cell_type": "code",
   "execution_count": 52,
   "metadata": {},
   "outputs": [
    {
     "name": "stdout",
     "output_type": "stream",
     "text": [
      "True\n",
      "True\n",
      "Line 99\n"
     ]
    }
   ],
   "source": [
    "file = open('file1.txt', mode='r+')\n",
    "print(file.readable())\n",
    "print(file.writable())\n",
    "print(file.read())\n",
    "file.write(\"Line 99\")\n",
    "file.close()"
   ]
  },
  {
   "cell_type": "code",
   "execution_count": 53,
   "metadata": {},
   "outputs": [
    {
     "name": "stdout",
     "output_type": "stream",
     "text": [
      "True\n",
      "True\n",
      "Line 99\n"
     ]
    }
   ],
   "source": [
    "file = open('file1.txt', mode='r+')\n",
    "print(file.readable())\n",
    "print(file.writable())\n",
    "file.write(\"Line 99\")\n",
    "print(file.read())\n",
    "file.close()"
   ]
  },
  {
   "cell_type": "markdown",
   "metadata": {},
   "source": [
    "# File Opening with Session"
   ]
  },
  {
   "cell_type": "code",
   "execution_count": 56,
   "metadata": {},
   "outputs": [
    {
     "name": "stdout",
     "output_type": "stream",
     "text": [
      "True\n",
      "True\n",
      "Line 99Line 99Line 99\n"
     ]
    },
    {
     "data": {
      "text/plain": [
       "True"
      ]
     },
     "execution_count": 56,
     "metadata": {},
     "output_type": "execute_result"
    }
   ],
   "source": [
    "with open('file1.txt', mode='r+') as file1:\n",
    "    print(file1.readable())\n",
    "    print(file1.writable())\n",
    "    print(file1.read())\n",
    "    file1.write(\"Line 99\")\n",
    "file1.closed"
   ]
  }
 ],
 "metadata": {
  "interpreter": {
   "hash": "2be5faf79681da6f2a61fdfdd5405d65d042280f7fba6178067603e3a2925119"
  },
  "kernelspec": {
   "display_name": "Python 3.10.2 64-bit",
   "language": "python",
   "name": "python3"
  },
  "language_info": {
   "codemirror_mode": {
    "name": "ipython",
    "version": 3
   },
   "file_extension": ".py",
   "mimetype": "text/x-python",
   "name": "python",
   "nbconvert_exporter": "python",
   "pygments_lexer": "ipython3",
   "version": "3.10.2"
  },
  "orig_nbformat": 4
 },
 "nbformat": 4,
 "nbformat_minor": 2
}
